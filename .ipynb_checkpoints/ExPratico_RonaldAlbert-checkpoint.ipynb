{
 "cells": [
  {
   "cell_type": "markdown",
   "id": "319345ad",
   "metadata": {
    "id": "319345ad"
   },
   "source": [
    "# Trabalho de Recuperação de Informação\n",
    "## Desenvolvido por Ronald Albert"
   ]
  },
  {
   "cell_type": "code",
   "execution_count": null,
   "id": "f248660c",
   "metadata": {
    "id": "f248660c"
   },
   "outputs": [],
   "source": [
    "import regex as re\n",
    "import pandas as pd\n",
    "from functools import reduce"
   ]
  },
  {
   "cell_type": "code",
   "execution_count": null,
   "id": "3492db92",
   "metadata": {
    "id": "3492db92"
   },
   "outputs": [],
   "source": [
    "def normalize(doc):\n",
    "    return doc.lower()"
   ]
  },
  {
   "cell_type": "code",
   "execution_count": null,
   "id": "0afe3e5b",
   "metadata": {
    "id": "0afe3e5b"
   },
   "outputs": [],
   "source": [
    "def tokenize(doc, sep_list):\n",
    "    default_sep = sep_list[0]\n",
    "    \n",
    "    for sep in sep_list[1:]:\n",
    "        doc = doc.replace(sep, default_sep)\n",
    "        \n",
    "    doc = re.sub(r\"\\s+\", \" \", doc)\n",
    "    doc = doc.strip()\n",
    "\n",
    "    tokens = doc.split(default_sep)\n",
    "    return tokens\n"
   ]
  },
  {
   "cell_type": "code",
   "execution_count": null,
   "id": "b1fd94b4",
   "metadata": {
    "id": "b1fd94b4"
   },
   "outputs": [],
   "source": [
    "def eliminate_stopwords(tokens, stopwords):\n",
    "    return [token for token in tokens if token not in stopwords]"
   ]
  },
  {
   "cell_type": "code",
   "execution_count": null,
   "id": "146038e2",
   "metadata": {
    "id": "146038e2"
   },
   "outputs": [],
   "source": [
    "def clean_doc(doc, sep_list, stopwords):\n",
    "    doc = normalize(doc)\n",
    "    tokens = tokenize(doc, sep_list)\n",
    "    tokens = eliminate_stopwords(tokens, stopwords)\n",
    "    \n",
    "    return tokens"
   ]
  },
  {
   "cell_type": "code",
   "execution_count": null,
   "id": "8f3f9284",
   "metadata": {
    "id": "8f3f9284"
   },
   "outputs": [],
   "source": [
    "def incidence_matrix(docs):\n",
    "    token_set = set()\n",
    "    \n",
    "    for doc in docs:\n",
    "        for token in doc:\n",
    "            token_set.add(token)\n",
    "    \n",
    "    doc_list = list(range(0, len(docs)))\n",
    "    \n",
    "    incidence_matrix = pd.DataFrame(columns=doc_list)\n",
    "    \n",
    "    for token in token_set:\n",
    "        token_series = pd.Series(index=doc_list, dtype='object')\n",
    "        \n",
    "        for index,value in token_series.iteritems():\n",
    "            token_series[index] = docs[int(index)].count(token)/len(docs[int(index)])\n",
    "        \n",
    "        incidence_matrix = incidence_matrix.append(token_series, ignore_index=True)\n",
    "        \n",
    "    incidence_matrix.index = token_set\n",
    "    return incidence_matrix"
   ]
  },
  {
   "cell_type": "code",
   "execution_count": null,
   "id": "0f78fbb4",
   "metadata": {
    "id": "0f78fbb4"
   },
   "outputs": [],
   "source": [
    "M=[['Parasita é o grande vencedor do Oscar 2020, com quatro prêmios'],\n",
    "['Green Book, Roma e Bohemian Rhapsody são os principais vencedores do Oscar 2019'],\n",
    "['Oscar 2020: Confira lista completa de vencedores. Parasita e 1917 foram os grandes vencedores da noite'],\n",
    "['Em boa fase, Oscar sonha em jogar a Copa do Mundo da Rússia'],\n",
    "['Conheça os indicados ao Oscar 2020; Cerimônia de premiação acontece em fevereiro'],\n",
    "['Oscar Schmidt receberá Troféu no Prêmio Brasil Olímpico 2019. Jogador de basquete com mais pontos em Jogos Olímpicos.'],\n",
    "['Seleção brasileira vai observar de 35 a 40 jogadores para definir lista da Copa América'],\n",
    "['Oscar 2020: saiba como é a escolha dos jurados e como eles votam'],\n",
    "['Bem, Amigos! discute lista da Seleção, e Galvão dá recado a Tite: Cadê o Luan?'],\n",
    "['IFAL-Maceió convoca aprovados em lista de espera do SISU para chamada oral'],\n",
    "['Arrascaeta e Matías Viña são convocados pelo Uruguai para eliminatórias da Copa. Além deles, há outros destaques na lista.'],\n",
    "['Oscar do Vinho: confira os rótulos de destaque da safra 2018'],\n",
    "['Parasita é o vencedor da Palma de Ouro no Festival de Cannes'],\n",
    "['Estatísticas. Brasileirão Série A: Os artilheiros e garçons da temporada 2020'],\n",
    "['Setembro chegou! Confira o calendário da temporada 2020/2021 do futebol europeu']] #conjunto de documentos\n",
    "\n",
    "stopwords=['a', 'o', 'e', 'é', 'de', 'do', 'da', 'no', 'na', 'são', 'dos', 'com','como',\n",
    "'eles', 'em', 'os', 'ao', 'para', 'pelo'] #lista de stopwords\n",
    "\n",
    "q='oscar 2020' #consulta\n",
    "\n",
    "separadores=[' ',',','.','!','?',':',';','/'] #separadores para tokenizacao"
   ]
  },
  {
   "cell_type": "code",
   "execution_count": null,
   "id": "66e8dfce",
   "metadata": {
    "colab": {
     "base_uri": "https://localhost:8080/"
    },
    "id": "66e8dfce",
    "outputId": "e0977ccb-1146-4527-9aa8-2ed6d8a36a8d"
   },
   "outputs": [],
   "source": [
    "M_cleaned = [clean_doc(doc[0], separadores, stopwords) for doc in M]\n",
    "M_cleaned"
   ]
  },
  {
   "cell_type": "code",
   "execution_count": null,
   "id": "13161652",
   "metadata": {
    "colab": {
     "base_uri": "https://localhost:8080/",
     "height": 424
    },
    "id": "13161652",
    "outputId": "8ab9f6ed-ede4-4eee-82b7-50491b7e7e66"
   },
   "outputs": [],
   "source": [
    "freq_matrix = incidence_matrix(M_cleaned)\n",
    "freq_matrix"
   ]
  },
  {
   "cell_type": "code",
   "execution_count": null,
   "id": "bce6b700",
   "metadata": {},
   "outputs": [],
   "source": [
    "# Modificando a matriz para estar no modelo booleano\n",
    "\n",
    "boolean_model = freq_matrix.applymap(lambda x: 0 if x == 0 else 1)\n",
    "boolean_model"
   ]
  },
  {
   "cell_type": "code",
   "execution_count": null,
   "id": "3e40186c",
   "metadata": {},
   "outputs": [],
   "source": [
    "boolean_model[boolean_model.iloc[:,14] > 0]"
   ]
  },
  {
   "cell_type": "code",
   "execution_count": null,
   "id": "01d254b1",
   "metadata": {},
   "outputs": [],
   "source": [
    "print('0b'+''.join(str(e) for e in boolean_model.loc['saiba']))\n",
    "print('0b'+''.join(str(e) for e in boolean_model.loc['festival']))"
   ]
  },
  {
   "cell_type": "code",
   "execution_count": null,
   "id": "781aeba8",
   "metadata": {},
   "outputs": [],
   "source": [
    "# Convertendo as ocorrências nos documentos para binário para realizar\n",
    "# a operação de AND e OR bitwise.\n",
    "def convert_token_to_bin(token):\n",
    "    if token in boolean_model.index:\n",
    "        return '0b'+''.join(str(e) for e in boolean_model.loc[token])\n",
    "    else :\n",
    "        return '0b'+('0'*boolean_model.shape[1])\n",
    "    \n",
    "# Função para retornar o número dos documentos na string de binario,\n",
    "# a função procura pelos char's 1 dentro da string e retorna seus indices.\n",
    "def return_documents(binary):\n",
    "    return [index for index, char in enumerate(binary) if char == '1']\n",
    "\n",
    "def and_query(query):\n",
    "    num_docs = boolean_model.shape[1]\n",
    "    \n",
    "    token_list = clean_doc(query, separadores, stopwords)\n",
    "    token_doc_bin = [int(convert_token_to_bin(token),2) for token in token_list]\n",
    "    \n",
    "    result = reduce(lambda x,y : x & y, token_doc_bin)\n",
    "    return return_documents(format(result,'0'+str(num_docs)+'b'))\n",
    "\n",
    "def or_query(query):\n",
    "    num_docs = boolean_model.shape[1]\n",
    "    \n",
    "    token_list = clean_doc(query, separadores, stopwords)\n",
    "    token_doc_bin = [int(convert_token_to_bin(token),2) for token in token_list]\n",
    "     \n",
    "    result = reduce(lambda x,y : x | y, token_doc_bin)\n",
    "    return return_documents(format(result,'0'+str(num_docs)+'b'))"
   ]
  },
  {
   "cell_type": "code",
   "execution_count": null,
   "id": "a01d862d",
   "metadata": {},
   "outputs": [],
   "source": [
    "and_query('temporada 2020 confira')"
   ]
  },
  {
   "cell_type": "code",
   "execution_count": null,
   "id": "83769653",
   "metadata": {},
   "outputs": [],
   "source": [
    "or_query('temporada 2020 confira')"
   ]
  },
  {
   "cell_type": "code",
   "execution_count": null,
   "id": "c45ab60e",
   "metadata": {},
   "outputs": [],
   "source": []
  }
 ],
 "metadata": {
  "colab": {
   "collapsed_sections": [],
   "name": "ExPratico_RonaldAlbert.ipynb",
   "provenance": []
  },
  "kernelspec": {
   "display_name": "Python 3 (ipykernel)",
   "language": "python",
   "name": "python3"
  },
  "language_info": {
   "codemirror_mode": {
    "name": "ipython",
    "version": 3
   },
   "file_extension": ".py",
   "mimetype": "text/x-python",
   "name": "python",
   "nbconvert_exporter": "python",
   "pygments_lexer": "ipython3",
   "version": "3.9.7"
  }
 },
 "nbformat": 4,
 "nbformat_minor": 5
}
