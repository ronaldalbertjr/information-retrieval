{
  "cells": [
    {
      "cell_type": "markdown",
      "id": "319345ad",
      "metadata": {
        "id": "319345ad"
      },
      "source": [
        "# Trabalho de Recuperação de Informação\n",
        "## Desenvolvido por Ronald Albert"
      ]
    },
    {
      "cell_type": "code",
      "execution_count": null,
      "id": "f248660c",
      "metadata": {
        "id": "f248660c"
      },
      "outputs": [],
      "source": [
        "import regex as re\n",
        "import pandas as pd\n",
        "import numpy as np\n",
        "from functools import reduce\n",
        "import matplotlib.pyplot as plt"
      ]
    },
    {
      "cell_type": "code",
      "execution_count": null,
      "id": "3492db92",
      "metadata": {
        "id": "3492db92"
      },
      "outputs": [],
      "source": [
        "def normalize(doc):\n",
        "    return doc.lower()"
      ]
    },
    {
      "cell_type": "code",
      "execution_count": null,
      "id": "0afe3e5b",
      "metadata": {
        "id": "0afe3e5b"
      },
      "outputs": [],
      "source": [
        "def tokenize(doc, sep_list):\n",
        "    default_sep = sep_list[0]\n",
        "    \n",
        "    for sep in sep_list[1:]:\n",
        "        doc = doc.replace(sep, default_sep)\n",
        "        \n",
        "    doc = re.sub(r\"\\s+\", \" \", doc)\n",
        "    doc = doc.strip()\n",
        "\n",
        "    tokens = doc.split(default_sep)\n",
        "    return tokens\n"
      ]
    },
    {
      "cell_type": "code",
      "execution_count": null,
      "id": "b1fd94b4",
      "metadata": {
        "id": "b1fd94b4"
      },
      "outputs": [],
      "source": [
        "def eliminate_stopwords(tokens, stopwords):\n",
        "    return [token for token in tokens if token not in stopwords]"
      ]
    },
    {
      "cell_type": "code",
      "execution_count": null,
      "id": "146038e2",
      "metadata": {
        "id": "146038e2"
      },
      "outputs": [],
      "source": [
        "def clean_doc(doc, sep_list, stopwords):\n",
        "    doc = normalize(doc)\n",
        "    tokens = tokenize(doc, sep_list)\n",
        "    tokens = eliminate_stopwords(tokens, stopwords)\n",
        "    \n",
        "    return tokens"
      ]
    },
    {
      "cell_type": "code",
      "execution_count": null,
      "id": "8f3f9284",
      "metadata": {
        "id": "8f3f9284"
      },
      "outputs": [],
      "source": [
        "def incidence_matrix(docs):\n",
        "    token_set = set()\n",
        "    \n",
        "    for doc in docs:\n",
        "        for token in doc:\n",
        "            token_set.add(token)\n",
        "    \n",
        "    doc_list = list(range(0, len(docs)))\n",
        "    \n",
        "    incidence_matrix = pd.DataFrame(columns=doc_list)\n",
        "    \n",
        "    for token in token_set:\n",
        "        token_series = pd.Series(index=doc_list, dtype='object')\n",
        "        \n",
        "        for index,value in token_series.iteritems():\n",
        "            token_series[index] = docs[int(index)].count(token)/len(docs[int(index)])\n",
        "        \n",
        "        incidence_matrix = incidence_matrix.append(token_series, ignore_index=True)\n",
        "        \n",
        "    incidence_matrix.index = token_set\n",
        "    return incidence_matrix"
      ]
    },
    {
      "cell_type": "code",
      "execution_count": null,
      "id": "0f78fbb4",
      "metadata": {
        "id": "0f78fbb4"
      },
      "outputs": [],
      "source": [
        "M=[['Parasita é o grande vencedor do Oscar 2020, com quatro prêmios'],\n",
        "['Green Book, Roma e Bohemian Rhapsody são os principais vencedores do Oscar 2019'],\n",
        "['Oscar 2020: Confira lista completa de vencedores. Parasita e 1917 foram os grandes vencedores da noite'],\n",
        "['Em boa fase, Oscar sonha em jogar a Copa do Mundo da Rússia'],\n",
        "['Conheça os indicados ao Oscar 2020; Cerimônia de premiação acontece em fevereiro'],\n",
        "['Oscar Schmidt receberá Troféu no Prêmio Brasil Olímpico 2019. Jogador de basquete com mais pontos em Jogos Olímpicos.'],\n",
        "['Seleção brasileira vai observar de 35 a 40 jogadores para definir lista da Copa América'],\n",
        "['Oscar 2020: saiba como é a escolha dos jurados e como eles votam'],\n",
        "['Bem, Amigos! discute lista da Seleção, e Galvão dá recado a Tite: Cadê o Luan?'],\n",
        "['IFAL-Maceió convoca aprovados em lista de espera do SISU para chamada oral'],\n",
        "['Arrascaeta e Matías Viña são convocados pelo Uruguai para eliminatórias da Copa. Além deles, há outros destaques na lista.'],\n",
        "['Oscar do Vinho: confira os rótulos de destaque da safra 2018'],\n",
        "['Parasita é o vencedor da Palma de Ouro no Festival de Cannes'],\n",
        "['Estatísticas. Brasileirão Série A: Os artilheiros e garçons da temporada 2020'],\n",
        "['Setembro chegou! Confira o calendário da temporada 2020/2021 do futebol europeu']] #conjunto de documentos\n",
        "\n",
        "stopwords=['a', 'o', 'e', 'é', 'de', 'do', 'da', 'no', 'na', 'são', 'dos', 'com','como',\n",
        "'eles', 'em', 'os', 'ao', 'para', 'pelo'] #lista de stopwords\n",
        "\n",
        "q='oscar 2020' #consulta\n",
        "\n",
        "separadores=[' ',',','.','!','?',':',';','/'] #separadores para tokenizacao"
      ]
    },
    {
      "cell_type": "code",
      "execution_count": null,
      "id": "66e8dfce",
      "metadata": {
        "id": "66e8dfce",
        "colab": {
          "base_uri": "https://localhost:8080/"
        },
        "outputId": "68ee672c-8660-414b-e193-061d498178c7"
      },
      "outputs": [
        {
          "output_type": "execute_result",
          "data": {
            "text/plain": [
              "[['parasita', 'grande', 'vencedor', 'oscar', '2020', 'quatro', 'prêmios'],\n",
              " ['green',\n",
              "  'book',\n",
              "  'roma',\n",
              "  'bohemian',\n",
              "  'rhapsody',\n",
              "  'principais',\n",
              "  'vencedores',\n",
              "  'oscar',\n",
              "  '2019'],\n",
              " ['oscar',\n",
              "  '2020',\n",
              "  'confira',\n",
              "  'lista',\n",
              "  'completa',\n",
              "  'vencedores',\n",
              "  'parasita',\n",
              "  '1917',\n",
              "  'foram',\n",
              "  'grandes',\n",
              "  'vencedores',\n",
              "  'noite'],\n",
              " ['boa', 'fase', 'oscar', 'sonha', 'jogar', 'copa', 'mundo', 'rússia'],\n",
              " ['conheça',\n",
              "  'indicados',\n",
              "  'oscar',\n",
              "  '2020',\n",
              "  'cerimônia',\n",
              "  'premiação',\n",
              "  'acontece',\n",
              "  'fevereiro'],\n",
              " ['oscar',\n",
              "  'schmidt',\n",
              "  'receberá',\n",
              "  'troféu',\n",
              "  'prêmio',\n",
              "  'brasil',\n",
              "  'olímpico',\n",
              "  '2019',\n",
              "  'jogador',\n",
              "  'basquete',\n",
              "  'mais',\n",
              "  'pontos',\n",
              "  'jogos',\n",
              "  'olímpicos'],\n",
              " ['seleção',\n",
              "  'brasileira',\n",
              "  'vai',\n",
              "  'observar',\n",
              "  '35',\n",
              "  '40',\n",
              "  'jogadores',\n",
              "  'definir',\n",
              "  'lista',\n",
              "  'copa',\n",
              "  'américa'],\n",
              " ['oscar', '2020', 'saiba', 'escolha', 'jurados', 'votam'],\n",
              " ['bem',\n",
              "  'amigos',\n",
              "  'discute',\n",
              "  'lista',\n",
              "  'seleção',\n",
              "  'galvão',\n",
              "  'dá',\n",
              "  'recado',\n",
              "  'tite',\n",
              "  'cadê',\n",
              "  'luan'],\n",
              " ['ifal-maceió',\n",
              "  'convoca',\n",
              "  'aprovados',\n",
              "  'lista',\n",
              "  'espera',\n",
              "  'sisu',\n",
              "  'chamada',\n",
              "  'oral'],\n",
              " ['arrascaeta',\n",
              "  'matías',\n",
              "  'viña',\n",
              "  'convocados',\n",
              "  'uruguai',\n",
              "  'eliminatórias',\n",
              "  'copa',\n",
              "  'além',\n",
              "  'deles',\n",
              "  'há',\n",
              "  'outros',\n",
              "  'destaques',\n",
              "  'lista'],\n",
              " ['oscar', 'vinho', 'confira', 'rótulos', 'destaque', 'safra', '2018'],\n",
              " ['parasita', 'vencedor', 'palma', 'ouro', 'festival', 'cannes'],\n",
              " ['estatísticas',\n",
              "  'brasileirão',\n",
              "  'série',\n",
              "  'artilheiros',\n",
              "  'garçons',\n",
              "  'temporada',\n",
              "  '2020'],\n",
              " ['setembro',\n",
              "  'chegou',\n",
              "  'confira',\n",
              "  'calendário',\n",
              "  'temporada',\n",
              "  '2020',\n",
              "  '2021',\n",
              "  'futebol',\n",
              "  'europeu']]"
            ]
          },
          "metadata": {},
          "execution_count": 8
        }
      ],
      "source": [
        "M_cleaned = [clean_doc(doc[0], separadores, stopwords) for doc in M]\n",
        "M_cleaned"
      ]
    },
    {
      "cell_type": "code",
      "execution_count": null,
      "id": "13161652",
      "metadata": {
        "id": "13161652",
        "colab": {
          "base_uri": "https://localhost:8080/",
          "height": 488
        },
        "outputId": "7d4a7243-e950-4234-8918-b3e8e8a1658c"
      },
      "outputs": [
        {
          "output_type": "execute_result",
          "data": {
            "text/html": [
              "\n",
              "  <div id=\"df-c2c4cdf9-396e-4a10-b443-092f75ee39cd\">\n",
              "    <div class=\"colab-df-container\">\n",
              "      <div>\n",
              "<style scoped>\n",
              "    .dataframe tbody tr th:only-of-type {\n",
              "        vertical-align: middle;\n",
              "    }\n",
              "\n",
              "    .dataframe tbody tr th {\n",
              "        vertical-align: top;\n",
              "    }\n",
              "\n",
              "    .dataframe thead th {\n",
              "        text-align: right;\n",
              "    }\n",
              "</style>\n",
              "<table border=\"1\" class=\"dataframe\">\n",
              "  <thead>\n",
              "    <tr style=\"text-align: right;\">\n",
              "      <th></th>\n",
              "      <th>0</th>\n",
              "      <th>1</th>\n",
              "      <th>2</th>\n",
              "      <th>3</th>\n",
              "      <th>4</th>\n",
              "      <th>5</th>\n",
              "      <th>6</th>\n",
              "      <th>7</th>\n",
              "      <th>8</th>\n",
              "      <th>9</th>\n",
              "      <th>10</th>\n",
              "      <th>11</th>\n",
              "      <th>12</th>\n",
              "      <th>13</th>\n",
              "      <th>14</th>\n",
              "    </tr>\n",
              "  </thead>\n",
              "  <tbody>\n",
              "    <tr>\n",
              "      <th>35</th>\n",
              "      <td>0.000000</td>\n",
              "      <td>0.000000</td>\n",
              "      <td>0.0</td>\n",
              "      <td>0.0</td>\n",
              "      <td>0.000</td>\n",
              "      <td>0.0</td>\n",
              "      <td>0.090909</td>\n",
              "      <td>0.0</td>\n",
              "      <td>0.0</td>\n",
              "      <td>0.000</td>\n",
              "      <td>0.000000</td>\n",
              "      <td>0.0</td>\n",
              "      <td>0.0</td>\n",
              "      <td>0.0</td>\n",
              "      <td>0.0</td>\n",
              "    </tr>\n",
              "    <tr>\n",
              "      <th>roma</th>\n",
              "      <td>0.000000</td>\n",
              "      <td>0.111111</td>\n",
              "      <td>0.0</td>\n",
              "      <td>0.0</td>\n",
              "      <td>0.000</td>\n",
              "      <td>0.0</td>\n",
              "      <td>0.000000</td>\n",
              "      <td>0.0</td>\n",
              "      <td>0.0</td>\n",
              "      <td>0.000</td>\n",
              "      <td>0.000000</td>\n",
              "      <td>0.0</td>\n",
              "      <td>0.0</td>\n",
              "      <td>0.0</td>\n",
              "      <td>0.0</td>\n",
              "    </tr>\n",
              "    <tr>\n",
              "      <th>40</th>\n",
              "      <td>0.000000</td>\n",
              "      <td>0.000000</td>\n",
              "      <td>0.0</td>\n",
              "      <td>0.0</td>\n",
              "      <td>0.000</td>\n",
              "      <td>0.0</td>\n",
              "      <td>0.090909</td>\n",
              "      <td>0.0</td>\n",
              "      <td>0.0</td>\n",
              "      <td>0.000</td>\n",
              "      <td>0.000000</td>\n",
              "      <td>0.0</td>\n",
              "      <td>0.0</td>\n",
              "      <td>0.0</td>\n",
              "      <td>0.0</td>\n",
              "    </tr>\n",
              "    <tr>\n",
              "      <th>espera</th>\n",
              "      <td>0.000000</td>\n",
              "      <td>0.000000</td>\n",
              "      <td>0.0</td>\n",
              "      <td>0.0</td>\n",
              "      <td>0.000</td>\n",
              "      <td>0.0</td>\n",
              "      <td>0.000000</td>\n",
              "      <td>0.0</td>\n",
              "      <td>0.0</td>\n",
              "      <td>0.125</td>\n",
              "      <td>0.000000</td>\n",
              "      <td>0.0</td>\n",
              "      <td>0.0</td>\n",
              "      <td>0.0</td>\n",
              "      <td>0.0</td>\n",
              "    </tr>\n",
              "    <tr>\n",
              "      <th>viña</th>\n",
              "      <td>0.000000</td>\n",
              "      <td>0.000000</td>\n",
              "      <td>0.0</td>\n",
              "      <td>0.0</td>\n",
              "      <td>0.000</td>\n",
              "      <td>0.0</td>\n",
              "      <td>0.000000</td>\n",
              "      <td>0.0</td>\n",
              "      <td>0.0</td>\n",
              "      <td>0.000</td>\n",
              "      <td>0.076923</td>\n",
              "      <td>0.0</td>\n",
              "      <td>0.0</td>\n",
              "      <td>0.0</td>\n",
              "      <td>0.0</td>\n",
              "    </tr>\n",
              "    <tr>\n",
              "      <th>...</th>\n",
              "      <td>...</td>\n",
              "      <td>...</td>\n",
              "      <td>...</td>\n",
              "      <td>...</td>\n",
              "      <td>...</td>\n",
              "      <td>...</td>\n",
              "      <td>...</td>\n",
              "      <td>...</td>\n",
              "      <td>...</td>\n",
              "      <td>...</td>\n",
              "      <td>...</td>\n",
              "      <td>...</td>\n",
              "      <td>...</td>\n",
              "      <td>...</td>\n",
              "      <td>...</td>\n",
              "    </tr>\n",
              "    <tr>\n",
              "      <th>américa</th>\n",
              "      <td>0.000000</td>\n",
              "      <td>0.000000</td>\n",
              "      <td>0.0</td>\n",
              "      <td>0.0</td>\n",
              "      <td>0.000</td>\n",
              "      <td>0.0</td>\n",
              "      <td>0.090909</td>\n",
              "      <td>0.0</td>\n",
              "      <td>0.0</td>\n",
              "      <td>0.000</td>\n",
              "      <td>0.000000</td>\n",
              "      <td>0.0</td>\n",
              "      <td>0.0</td>\n",
              "      <td>0.0</td>\n",
              "      <td>0.0</td>\n",
              "    </tr>\n",
              "    <tr>\n",
              "      <th>bohemian</th>\n",
              "      <td>0.000000</td>\n",
              "      <td>0.111111</td>\n",
              "      <td>0.0</td>\n",
              "      <td>0.0</td>\n",
              "      <td>0.000</td>\n",
              "      <td>0.0</td>\n",
              "      <td>0.000000</td>\n",
              "      <td>0.0</td>\n",
              "      <td>0.0</td>\n",
              "      <td>0.000</td>\n",
              "      <td>0.000000</td>\n",
              "      <td>0.0</td>\n",
              "      <td>0.0</td>\n",
              "      <td>0.0</td>\n",
              "      <td>0.0</td>\n",
              "    </tr>\n",
              "    <tr>\n",
              "      <th>premiação</th>\n",
              "      <td>0.000000</td>\n",
              "      <td>0.000000</td>\n",
              "      <td>0.0</td>\n",
              "      <td>0.0</td>\n",
              "      <td>0.125</td>\n",
              "      <td>0.0</td>\n",
              "      <td>0.000000</td>\n",
              "      <td>0.0</td>\n",
              "      <td>0.0</td>\n",
              "      <td>0.000</td>\n",
              "      <td>0.000000</td>\n",
              "      <td>0.0</td>\n",
              "      <td>0.0</td>\n",
              "      <td>0.0</td>\n",
              "      <td>0.0</td>\n",
              "    </tr>\n",
              "    <tr>\n",
              "      <th>quatro</th>\n",
              "      <td>0.142857</td>\n",
              "      <td>0.000000</td>\n",
              "      <td>0.0</td>\n",
              "      <td>0.0</td>\n",
              "      <td>0.000</td>\n",
              "      <td>0.0</td>\n",
              "      <td>0.000000</td>\n",
              "      <td>0.0</td>\n",
              "      <td>0.0</td>\n",
              "      <td>0.000</td>\n",
              "      <td>0.000000</td>\n",
              "      <td>0.0</td>\n",
              "      <td>0.0</td>\n",
              "      <td>0.0</td>\n",
              "      <td>0.0</td>\n",
              "    </tr>\n",
              "    <tr>\n",
              "      <th>prêmios</th>\n",
              "      <td>0.142857</td>\n",
              "      <td>0.000000</td>\n",
              "      <td>0.0</td>\n",
              "      <td>0.0</td>\n",
              "      <td>0.000</td>\n",
              "      <td>0.0</td>\n",
              "      <td>0.000000</td>\n",
              "      <td>0.0</td>\n",
              "      <td>0.0</td>\n",
              "      <td>0.000</td>\n",
              "      <td>0.000000</td>\n",
              "      <td>0.0</td>\n",
              "      <td>0.0</td>\n",
              "      <td>0.0</td>\n",
              "      <td>0.0</td>\n",
              "    </tr>\n",
              "  </tbody>\n",
              "</table>\n",
              "<p>108 rows × 15 columns</p>\n",
              "</div>\n",
              "      <button class=\"colab-df-convert\" onclick=\"convertToInteractive('df-c2c4cdf9-396e-4a10-b443-092f75ee39cd')\"\n",
              "              title=\"Convert this dataframe to an interactive table.\"\n",
              "              style=\"display:none;\">\n",
              "        \n",
              "  <svg xmlns=\"http://www.w3.org/2000/svg\" height=\"24px\"viewBox=\"0 0 24 24\"\n",
              "       width=\"24px\">\n",
              "    <path d=\"M0 0h24v24H0V0z\" fill=\"none\"/>\n",
              "    <path d=\"M18.56 5.44l.94 2.06.94-2.06 2.06-.94-2.06-.94-.94-2.06-.94 2.06-2.06.94zm-11 1L8.5 8.5l.94-2.06 2.06-.94-2.06-.94L8.5 2.5l-.94 2.06-2.06.94zm10 10l.94 2.06.94-2.06 2.06-.94-2.06-.94-.94-2.06-.94 2.06-2.06.94z\"/><path d=\"M17.41 7.96l-1.37-1.37c-.4-.4-.92-.59-1.43-.59-.52 0-1.04.2-1.43.59L10.3 9.45l-7.72 7.72c-.78.78-.78 2.05 0 2.83L4 21.41c.39.39.9.59 1.41.59.51 0 1.02-.2 1.41-.59l7.78-7.78 2.81-2.81c.8-.78.8-2.07 0-2.86zM5.41 20L4 18.59l7.72-7.72 1.47 1.35L5.41 20z\"/>\n",
              "  </svg>\n",
              "      </button>\n",
              "      \n",
              "  <style>\n",
              "    .colab-df-container {\n",
              "      display:flex;\n",
              "      flex-wrap:wrap;\n",
              "      gap: 12px;\n",
              "    }\n",
              "\n",
              "    .colab-df-convert {\n",
              "      background-color: #E8F0FE;\n",
              "      border: none;\n",
              "      border-radius: 50%;\n",
              "      cursor: pointer;\n",
              "      display: none;\n",
              "      fill: #1967D2;\n",
              "      height: 32px;\n",
              "      padding: 0 0 0 0;\n",
              "      width: 32px;\n",
              "    }\n",
              "\n",
              "    .colab-df-convert:hover {\n",
              "      background-color: #E2EBFA;\n",
              "      box-shadow: 0px 1px 2px rgba(60, 64, 67, 0.3), 0px 1px 3px 1px rgba(60, 64, 67, 0.15);\n",
              "      fill: #174EA6;\n",
              "    }\n",
              "\n",
              "    [theme=dark] .colab-df-convert {\n",
              "      background-color: #3B4455;\n",
              "      fill: #D2E3FC;\n",
              "    }\n",
              "\n",
              "    [theme=dark] .colab-df-convert:hover {\n",
              "      background-color: #434B5C;\n",
              "      box-shadow: 0px 1px 3px 1px rgba(0, 0, 0, 0.15);\n",
              "      filter: drop-shadow(0px 1px 2px rgba(0, 0, 0, 0.3));\n",
              "      fill: #FFFFFF;\n",
              "    }\n",
              "  </style>\n",
              "\n",
              "      <script>\n",
              "        const buttonEl =\n",
              "          document.querySelector('#df-c2c4cdf9-396e-4a10-b443-092f75ee39cd button.colab-df-convert');\n",
              "        buttonEl.style.display =\n",
              "          google.colab.kernel.accessAllowed ? 'block' : 'none';\n",
              "\n",
              "        async function convertToInteractive(key) {\n",
              "          const element = document.querySelector('#df-c2c4cdf9-396e-4a10-b443-092f75ee39cd');\n",
              "          const dataTable =\n",
              "            await google.colab.kernel.invokeFunction('convertToInteractive',\n",
              "                                                     [key], {});\n",
              "          if (!dataTable) return;\n",
              "\n",
              "          const docLinkHtml = 'Like what you see? Visit the ' +\n",
              "            '<a target=\"_blank\" href=https://colab.research.google.com/notebooks/data_table.ipynb>data table notebook</a>'\n",
              "            + ' to learn more about interactive tables.';\n",
              "          element.innerHTML = '';\n",
              "          dataTable['output_type'] = 'display_data';\n",
              "          await google.colab.output.renderOutput(dataTable, element);\n",
              "          const docLink = document.createElement('div');\n",
              "          docLink.innerHTML = docLinkHtml;\n",
              "          element.appendChild(docLink);\n",
              "        }\n",
              "      </script>\n",
              "    </div>\n",
              "  </div>\n",
              "  "
            ],
            "text/plain": [
              "                 0         1    2    3      4   ...        10   11   12   13   14\n",
              "35         0.000000  0.000000  0.0  0.0  0.000  ...  0.000000  0.0  0.0  0.0  0.0\n",
              "roma       0.000000  0.111111  0.0  0.0  0.000  ...  0.000000  0.0  0.0  0.0  0.0\n",
              "40         0.000000  0.000000  0.0  0.0  0.000  ...  0.000000  0.0  0.0  0.0  0.0\n",
              "espera     0.000000  0.000000  0.0  0.0  0.000  ...  0.000000  0.0  0.0  0.0  0.0\n",
              "viña       0.000000  0.000000  0.0  0.0  0.000  ...  0.076923  0.0  0.0  0.0  0.0\n",
              "...             ...       ...  ...  ...    ...  ...       ...  ...  ...  ...  ...\n",
              "américa    0.000000  0.000000  0.0  0.0  0.000  ...  0.000000  0.0  0.0  0.0  0.0\n",
              "bohemian   0.000000  0.111111  0.0  0.0  0.000  ...  0.000000  0.0  0.0  0.0  0.0\n",
              "premiação  0.000000  0.000000  0.0  0.0  0.125  ...  0.000000  0.0  0.0  0.0  0.0\n",
              "quatro     0.142857  0.000000  0.0  0.0  0.000  ...  0.000000  0.0  0.0  0.0  0.0\n",
              "prêmios    0.142857  0.000000  0.0  0.0  0.000  ...  0.000000  0.0  0.0  0.0  0.0\n",
              "\n",
              "[108 rows x 15 columns]"
            ]
          },
          "metadata": {},
          "execution_count": 9
        }
      ],
      "source": [
        "freq_matrix = incidence_matrix(M_cleaned)\n",
        "freq_matrix"
      ]
    },
    {
      "cell_type": "markdown",
      "id": "bHKrHIgORPnn",
      "metadata": {
        "id": "bHKrHIgORPnn"
      },
      "source": [
        "# Parte 2 do Exercício Prátrico"
      ]
    },
    {
      "cell_type": "code",
      "execution_count": null,
      "id": "bce6b700",
      "metadata": {
        "id": "bce6b700",
        "colab": {
          "base_uri": "https://localhost:8080/",
          "height": 488
        },
        "outputId": "3e79ee07-709b-4705-df71-19ad64d21d90"
      },
      "outputs": [
        {
          "output_type": "execute_result",
          "data": {
            "text/html": [
              "\n",
              "  <div id=\"df-c5b317e8-e724-4619-b502-daf53c2745d8\">\n",
              "    <div class=\"colab-df-container\">\n",
              "      <div>\n",
              "<style scoped>\n",
              "    .dataframe tbody tr th:only-of-type {\n",
              "        vertical-align: middle;\n",
              "    }\n",
              "\n",
              "    .dataframe tbody tr th {\n",
              "        vertical-align: top;\n",
              "    }\n",
              "\n",
              "    .dataframe thead th {\n",
              "        text-align: right;\n",
              "    }\n",
              "</style>\n",
              "<table border=\"1\" class=\"dataframe\">\n",
              "  <thead>\n",
              "    <tr style=\"text-align: right;\">\n",
              "      <th></th>\n",
              "      <th>0</th>\n",
              "      <th>1</th>\n",
              "      <th>2</th>\n",
              "      <th>3</th>\n",
              "      <th>4</th>\n",
              "      <th>5</th>\n",
              "      <th>6</th>\n",
              "      <th>7</th>\n",
              "      <th>8</th>\n",
              "      <th>9</th>\n",
              "      <th>10</th>\n",
              "      <th>11</th>\n",
              "      <th>12</th>\n",
              "      <th>13</th>\n",
              "      <th>14</th>\n",
              "    </tr>\n",
              "  </thead>\n",
              "  <tbody>\n",
              "    <tr>\n",
              "      <th>35</th>\n",
              "      <td>0</td>\n",
              "      <td>0</td>\n",
              "      <td>0</td>\n",
              "      <td>0</td>\n",
              "      <td>0</td>\n",
              "      <td>0</td>\n",
              "      <td>1</td>\n",
              "      <td>0</td>\n",
              "      <td>0</td>\n",
              "      <td>0</td>\n",
              "      <td>0</td>\n",
              "      <td>0</td>\n",
              "      <td>0</td>\n",
              "      <td>0</td>\n",
              "      <td>0</td>\n",
              "    </tr>\n",
              "    <tr>\n",
              "      <th>roma</th>\n",
              "      <td>0</td>\n",
              "      <td>1</td>\n",
              "      <td>0</td>\n",
              "      <td>0</td>\n",
              "      <td>0</td>\n",
              "      <td>0</td>\n",
              "      <td>0</td>\n",
              "      <td>0</td>\n",
              "      <td>0</td>\n",
              "      <td>0</td>\n",
              "      <td>0</td>\n",
              "      <td>0</td>\n",
              "      <td>0</td>\n",
              "      <td>0</td>\n",
              "      <td>0</td>\n",
              "    </tr>\n",
              "    <tr>\n",
              "      <th>40</th>\n",
              "      <td>0</td>\n",
              "      <td>0</td>\n",
              "      <td>0</td>\n",
              "      <td>0</td>\n",
              "      <td>0</td>\n",
              "      <td>0</td>\n",
              "      <td>1</td>\n",
              "      <td>0</td>\n",
              "      <td>0</td>\n",
              "      <td>0</td>\n",
              "      <td>0</td>\n",
              "      <td>0</td>\n",
              "      <td>0</td>\n",
              "      <td>0</td>\n",
              "      <td>0</td>\n",
              "    </tr>\n",
              "    <tr>\n",
              "      <th>espera</th>\n",
              "      <td>0</td>\n",
              "      <td>0</td>\n",
              "      <td>0</td>\n",
              "      <td>0</td>\n",
              "      <td>0</td>\n",
              "      <td>0</td>\n",
              "      <td>0</td>\n",
              "      <td>0</td>\n",
              "      <td>0</td>\n",
              "      <td>1</td>\n",
              "      <td>0</td>\n",
              "      <td>0</td>\n",
              "      <td>0</td>\n",
              "      <td>0</td>\n",
              "      <td>0</td>\n",
              "    </tr>\n",
              "    <tr>\n",
              "      <th>viña</th>\n",
              "      <td>0</td>\n",
              "      <td>0</td>\n",
              "      <td>0</td>\n",
              "      <td>0</td>\n",
              "      <td>0</td>\n",
              "      <td>0</td>\n",
              "      <td>0</td>\n",
              "      <td>0</td>\n",
              "      <td>0</td>\n",
              "      <td>0</td>\n",
              "      <td>1</td>\n",
              "      <td>0</td>\n",
              "      <td>0</td>\n",
              "      <td>0</td>\n",
              "      <td>0</td>\n",
              "    </tr>\n",
              "    <tr>\n",
              "      <th>...</th>\n",
              "      <td>...</td>\n",
              "      <td>...</td>\n",
              "      <td>...</td>\n",
              "      <td>...</td>\n",
              "      <td>...</td>\n",
              "      <td>...</td>\n",
              "      <td>...</td>\n",
              "      <td>...</td>\n",
              "      <td>...</td>\n",
              "      <td>...</td>\n",
              "      <td>...</td>\n",
              "      <td>...</td>\n",
              "      <td>...</td>\n",
              "      <td>...</td>\n",
              "      <td>...</td>\n",
              "    </tr>\n",
              "    <tr>\n",
              "      <th>américa</th>\n",
              "      <td>0</td>\n",
              "      <td>0</td>\n",
              "      <td>0</td>\n",
              "      <td>0</td>\n",
              "      <td>0</td>\n",
              "      <td>0</td>\n",
              "      <td>1</td>\n",
              "      <td>0</td>\n",
              "      <td>0</td>\n",
              "      <td>0</td>\n",
              "      <td>0</td>\n",
              "      <td>0</td>\n",
              "      <td>0</td>\n",
              "      <td>0</td>\n",
              "      <td>0</td>\n",
              "    </tr>\n",
              "    <tr>\n",
              "      <th>bohemian</th>\n",
              "      <td>0</td>\n",
              "      <td>1</td>\n",
              "      <td>0</td>\n",
              "      <td>0</td>\n",
              "      <td>0</td>\n",
              "      <td>0</td>\n",
              "      <td>0</td>\n",
              "      <td>0</td>\n",
              "      <td>0</td>\n",
              "      <td>0</td>\n",
              "      <td>0</td>\n",
              "      <td>0</td>\n",
              "      <td>0</td>\n",
              "      <td>0</td>\n",
              "      <td>0</td>\n",
              "    </tr>\n",
              "    <tr>\n",
              "      <th>premiação</th>\n",
              "      <td>0</td>\n",
              "      <td>0</td>\n",
              "      <td>0</td>\n",
              "      <td>0</td>\n",
              "      <td>1</td>\n",
              "      <td>0</td>\n",
              "      <td>0</td>\n",
              "      <td>0</td>\n",
              "      <td>0</td>\n",
              "      <td>0</td>\n",
              "      <td>0</td>\n",
              "      <td>0</td>\n",
              "      <td>0</td>\n",
              "      <td>0</td>\n",
              "      <td>0</td>\n",
              "    </tr>\n",
              "    <tr>\n",
              "      <th>quatro</th>\n",
              "      <td>1</td>\n",
              "      <td>0</td>\n",
              "      <td>0</td>\n",
              "      <td>0</td>\n",
              "      <td>0</td>\n",
              "      <td>0</td>\n",
              "      <td>0</td>\n",
              "      <td>0</td>\n",
              "      <td>0</td>\n",
              "      <td>0</td>\n",
              "      <td>0</td>\n",
              "      <td>0</td>\n",
              "      <td>0</td>\n",
              "      <td>0</td>\n",
              "      <td>0</td>\n",
              "    </tr>\n",
              "    <tr>\n",
              "      <th>prêmios</th>\n",
              "      <td>1</td>\n",
              "      <td>0</td>\n",
              "      <td>0</td>\n",
              "      <td>0</td>\n",
              "      <td>0</td>\n",
              "      <td>0</td>\n",
              "      <td>0</td>\n",
              "      <td>0</td>\n",
              "      <td>0</td>\n",
              "      <td>0</td>\n",
              "      <td>0</td>\n",
              "      <td>0</td>\n",
              "      <td>0</td>\n",
              "      <td>0</td>\n",
              "      <td>0</td>\n",
              "    </tr>\n",
              "  </tbody>\n",
              "</table>\n",
              "<p>108 rows × 15 columns</p>\n",
              "</div>\n",
              "      <button class=\"colab-df-convert\" onclick=\"convertToInteractive('df-c5b317e8-e724-4619-b502-daf53c2745d8')\"\n",
              "              title=\"Convert this dataframe to an interactive table.\"\n",
              "              style=\"display:none;\">\n",
              "        \n",
              "  <svg xmlns=\"http://www.w3.org/2000/svg\" height=\"24px\"viewBox=\"0 0 24 24\"\n",
              "       width=\"24px\">\n",
              "    <path d=\"M0 0h24v24H0V0z\" fill=\"none\"/>\n",
              "    <path d=\"M18.56 5.44l.94 2.06.94-2.06 2.06-.94-2.06-.94-.94-2.06-.94 2.06-2.06.94zm-11 1L8.5 8.5l.94-2.06 2.06-.94-2.06-.94L8.5 2.5l-.94 2.06-2.06.94zm10 10l.94 2.06.94-2.06 2.06-.94-2.06-.94-.94-2.06-.94 2.06-2.06.94z\"/><path d=\"M17.41 7.96l-1.37-1.37c-.4-.4-.92-.59-1.43-.59-.52 0-1.04.2-1.43.59L10.3 9.45l-7.72 7.72c-.78.78-.78 2.05 0 2.83L4 21.41c.39.39.9.59 1.41.59.51 0 1.02-.2 1.41-.59l7.78-7.78 2.81-2.81c.8-.78.8-2.07 0-2.86zM5.41 20L4 18.59l7.72-7.72 1.47 1.35L5.41 20z\"/>\n",
              "  </svg>\n",
              "      </button>\n",
              "      \n",
              "  <style>\n",
              "    .colab-df-container {\n",
              "      display:flex;\n",
              "      flex-wrap:wrap;\n",
              "      gap: 12px;\n",
              "    }\n",
              "\n",
              "    .colab-df-convert {\n",
              "      background-color: #E8F0FE;\n",
              "      border: none;\n",
              "      border-radius: 50%;\n",
              "      cursor: pointer;\n",
              "      display: none;\n",
              "      fill: #1967D2;\n",
              "      height: 32px;\n",
              "      padding: 0 0 0 0;\n",
              "      width: 32px;\n",
              "    }\n",
              "\n",
              "    .colab-df-convert:hover {\n",
              "      background-color: #E2EBFA;\n",
              "      box-shadow: 0px 1px 2px rgba(60, 64, 67, 0.3), 0px 1px 3px 1px rgba(60, 64, 67, 0.15);\n",
              "      fill: #174EA6;\n",
              "    }\n",
              "\n",
              "    [theme=dark] .colab-df-convert {\n",
              "      background-color: #3B4455;\n",
              "      fill: #D2E3FC;\n",
              "    }\n",
              "\n",
              "    [theme=dark] .colab-df-convert:hover {\n",
              "      background-color: #434B5C;\n",
              "      box-shadow: 0px 1px 3px 1px rgba(0, 0, 0, 0.15);\n",
              "      filter: drop-shadow(0px 1px 2px rgba(0, 0, 0, 0.3));\n",
              "      fill: #FFFFFF;\n",
              "    }\n",
              "  </style>\n",
              "\n",
              "      <script>\n",
              "        const buttonEl =\n",
              "          document.querySelector('#df-c5b317e8-e724-4619-b502-daf53c2745d8 button.colab-df-convert');\n",
              "        buttonEl.style.display =\n",
              "          google.colab.kernel.accessAllowed ? 'block' : 'none';\n",
              "\n",
              "        async function convertToInteractive(key) {\n",
              "          const element = document.querySelector('#df-c5b317e8-e724-4619-b502-daf53c2745d8');\n",
              "          const dataTable =\n",
              "            await google.colab.kernel.invokeFunction('convertToInteractive',\n",
              "                                                     [key], {});\n",
              "          if (!dataTable) return;\n",
              "\n",
              "          const docLinkHtml = 'Like what you see? Visit the ' +\n",
              "            '<a target=\"_blank\" href=https://colab.research.google.com/notebooks/data_table.ipynb>data table notebook</a>'\n",
              "            + ' to learn more about interactive tables.';\n",
              "          element.innerHTML = '';\n",
              "          dataTable['output_type'] = 'display_data';\n",
              "          await google.colab.output.renderOutput(dataTable, element);\n",
              "          const docLink = document.createElement('div');\n",
              "          docLink.innerHTML = docLinkHtml;\n",
              "          element.appendChild(docLink);\n",
              "        }\n",
              "      </script>\n",
              "    </div>\n",
              "  </div>\n",
              "  "
            ],
            "text/plain": [
              "           0   1   2   3   4   5   6   7   8   9   10  11  12  13  14\n",
              "35          0   0   0   0   0   0   1   0   0   0   0   0   0   0   0\n",
              "roma        0   1   0   0   0   0   0   0   0   0   0   0   0   0   0\n",
              "40          0   0   0   0   0   0   1   0   0   0   0   0   0   0   0\n",
              "espera      0   0   0   0   0   0   0   0   0   1   0   0   0   0   0\n",
              "viña        0   0   0   0   0   0   0   0   0   0   1   0   0   0   0\n",
              "...        ..  ..  ..  ..  ..  ..  ..  ..  ..  ..  ..  ..  ..  ..  ..\n",
              "américa     0   0   0   0   0   0   1   0   0   0   0   0   0   0   0\n",
              "bohemian    0   1   0   0   0   0   0   0   0   0   0   0   0   0   0\n",
              "premiação   0   0   0   0   1   0   0   0   0   0   0   0   0   0   0\n",
              "quatro      1   0   0   0   0   0   0   0   0   0   0   0   0   0   0\n",
              "prêmios     1   0   0   0   0   0   0   0   0   0   0   0   0   0   0\n",
              "\n",
              "[108 rows x 15 columns]"
            ]
          },
          "metadata": {},
          "execution_count": 10
        }
      ],
      "source": [
        "# Modificando a matriz para estar no modelo booleano\n",
        "\n",
        "boolean_model = freq_matrix.applymap(lambda x: 0 if x == 0 else 1)\n",
        "boolean_model"
      ]
    },
    {
      "cell_type": "code",
      "execution_count": null,
      "id": "01d254b1",
      "metadata": {
        "id": "01d254b1",
        "colab": {
          "base_uri": "https://localhost:8080/"
        },
        "outputId": "f47eb735-90d8-4d91-d78b-a6c457683c25"
      },
      "outputs": [
        {
          "output_type": "stream",
          "name": "stdout",
          "text": [
            "0b000000010000000\n",
            "0b000000000000100\n"
          ]
        }
      ],
      "source": [
        "print('0b'+''.join(str(e) for e in boolean_model.loc['saiba']))\n",
        "print('0b'+''.join(str(e) for e in boolean_model.loc['festival']))"
      ]
    },
    {
      "cell_type": "code",
      "execution_count": null,
      "id": "781aeba8",
      "metadata": {
        "id": "781aeba8"
      },
      "outputs": [],
      "source": [
        "# Convertendo as ocorrências nos documentos para binário para realizar\n",
        "# a operação de AND e OR bitwise.\n",
        "def convert_token_to_bin(token):\n",
        "    if token in boolean_model.index:\n",
        "        return '0b'+''.join(str(e) for e in boolean_model.loc[token])\n",
        "    else :\n",
        "        return '0b'+('0'*boolean_model.shape[1])\n",
        "    \n",
        "# Função para retornar o número dos documentos na string de binario,\n",
        "# a função procura pelos char's 1 dentro da string e retorna seus indices.\n",
        "def return_documents(binary):\n",
        "    return [index for index, char in enumerate(binary) if char == '1']\n",
        "\n",
        "def and_query(query):\n",
        "    num_docs = boolean_model.shape[1]\n",
        "    \n",
        "    token_list = clean_doc(query, separadores, stopwords)\n",
        "    token_doc_bin = [int(convert_token_to_bin(token),2) for token in token_list]\n",
        "    \n",
        "    result = reduce(lambda x,y : x & y, token_doc_bin)\n",
        "    return return_documents(format(result,'0'+str(num_docs)+'b'))\n",
        "\n",
        "def or_query(query):\n",
        "    num_docs = boolean_model.shape[1]\n",
        "    \n",
        "    token_list = clean_doc(query, separadores, stopwords)\n",
        "    token_doc_bin = [int(convert_token_to_bin(token),2) for token in token_list]\n",
        "     \n",
        "    result = reduce(lambda x,y : x | y, token_doc_bin)\n",
        "    return return_documents(format(result,'0'+str(num_docs)+'b'))"
      ]
    },
    {
      "cell_type": "code",
      "execution_count": null,
      "id": "a01d862d",
      "metadata": {
        "id": "a01d862d",
        "colab": {
          "base_uri": "https://localhost:8080/"
        },
        "outputId": "ee01ddc3-db63-48e6-d330-b28300c37cb3"
      },
      "outputs": [
        {
          "output_type": "execute_result",
          "data": {
            "text/plain": [
              "[14]"
            ]
          },
          "metadata": {},
          "execution_count": 13
        }
      ],
      "source": [
        "and_query('temporada 2020 confira')"
      ]
    },
    {
      "cell_type": "code",
      "execution_count": null,
      "id": "83769653",
      "metadata": {
        "id": "83769653",
        "colab": {
          "base_uri": "https://localhost:8080/"
        },
        "outputId": "701f7701-5d4b-48ff-d410-9425634f1391"
      },
      "outputs": [
        {
          "output_type": "execute_result",
          "data": {
            "text/plain": [
              "[0, 2, 4, 7, 11, 13, 14]"
            ]
          },
          "metadata": {},
          "execution_count": 14
        }
      ],
      "source": [
        "or_query('temporada 2020 confira')"
      ]
    },
    {
      "cell_type": "markdown",
      "id": "XDXFy-wym8hs",
      "metadata": {
        "id": "XDXFy-wym8hs"
      },
      "source": [
        "# Parte 3 - TF-IDF"
      ]
    },
    {
      "cell_type": "code",
      "execution_count": null,
      "id": "k_dJ8WZbnA7Q",
      "metadata": {
        "id": "k_dJ8WZbnA7Q"
      },
      "outputs": [],
      "source": [
        "#Função para gerar o vetor idf\n",
        "def generate_idf_vector(docs):\n",
        "    token_set = set()\n",
        "    \n",
        "    for doc in docs:\n",
        "        for token in doc:\n",
        "            token_set.add(token)\n",
        "      \n",
        "    idf_vector = [np.log2(len(docs)/np.sum([1 if token in doc else 0 for doc in docs])) for token in token_set]\n",
        "    \n",
        "    idf = pd.Series(data=idf_vector, index=token_set)\n",
        "    \n",
        "    return idf"
      ]
    },
    {
      "cell_type": "code",
      "execution_count": null,
      "id": "TPzglpFLp9Fw",
      "metadata": {
        "id": "TPzglpFLp9Fw",
        "colab": {
          "base_uri": "https://localhost:8080/"
        },
        "outputId": "d05001f0-971b-427d-a892-6f3213cbf9e3"
      },
      "outputs": [
        {
          "output_type": "execute_result",
          "data": {
            "text/plain": [
              "35           3.906891\n",
              "roma         3.906891\n",
              "40           3.906891\n",
              "espera       3.906891\n",
              "viña         3.906891\n",
              "               ...   \n",
              "américa      3.906891\n",
              "bohemian     3.906891\n",
              "premiação    3.906891\n",
              "quatro       3.906891\n",
              "prêmios      3.906891\n",
              "Length: 108, dtype: float64"
            ]
          },
          "metadata": {},
          "execution_count": 16
        }
      ],
      "source": [
        "idf = generate_idf_vector(M_cleaned)\n",
        "idf"
      ]
    },
    {
      "cell_type": "code",
      "execution_count": null,
      "id": "ER8voyNkrghc",
      "metadata": {
        "id": "ER8voyNkrghc"
      },
      "outputs": [],
      "source": [
        "# Gerando a matriz tf-idf\n",
        "def tf_idf_matrix(docs, idf):\n",
        "    token_set = set()\n",
        "\n",
        "    for doc in docs:\n",
        "        for token in doc:\n",
        "            token_set.add(token)\n",
        "\n",
        "    doc_list = list(range(0, len(docs)))\n",
        "\n",
        "    tf_idf_matrix = pd.DataFrame(columns=doc_list)\n",
        "\n",
        "    for token in token_set:\n",
        "        token_series = pd.Series(index=doc_list, dtype='object')\n",
        "  \n",
        "        for index,value in token_series.iteritems():\n",
        "            token_series[index] = (1 + np.log2(docs[int(index)].count(token)))*idf[index] if docs[int(index)].count(token) > 0 else 0\n",
        "        \n",
        "        tf_idf_matrix = tf_idf_matrix.append(token_series.astype('float64'), ignore_index=True)\n",
        "      \n",
        "    tf_idf_matrix.index = token_set\n",
        "    return tf_idf_matrix\n"
      ]
    },
    {
      "cell_type": "code",
      "execution_count": null,
      "id": "Ei_imQOqseRz",
      "metadata": {
        "id": "Ei_imQOqseRz",
        "colab": {
          "base_uri": "https://localhost:8080/",
          "height": 488
        },
        "outputId": "d00f2970-b77f-4d76-f578-6d85f2a3f168"
      },
      "outputs": [
        {
          "output_type": "execute_result",
          "data": {
            "text/html": [
              "\n",
              "  <div id=\"df-0c7dbe19-2358-4594-ba85-d9efc313f1f9\">\n",
              "    <div class=\"colab-df-container\">\n",
              "      <div>\n",
              "<style scoped>\n",
              "    .dataframe tbody tr th:only-of-type {\n",
              "        vertical-align: middle;\n",
              "    }\n",
              "\n",
              "    .dataframe tbody tr th {\n",
              "        vertical-align: top;\n",
              "    }\n",
              "\n",
              "    .dataframe thead th {\n",
              "        text-align: right;\n",
              "    }\n",
              "</style>\n",
              "<table border=\"1\" class=\"dataframe\">\n",
              "  <thead>\n",
              "    <tr style=\"text-align: right;\">\n",
              "      <th></th>\n",
              "      <th>0</th>\n",
              "      <th>1</th>\n",
              "      <th>2</th>\n",
              "      <th>3</th>\n",
              "      <th>4</th>\n",
              "      <th>5</th>\n",
              "      <th>6</th>\n",
              "      <th>7</th>\n",
              "      <th>8</th>\n",
              "      <th>9</th>\n",
              "      <th>10</th>\n",
              "      <th>11</th>\n",
              "      <th>12</th>\n",
              "      <th>13</th>\n",
              "      <th>14</th>\n",
              "    </tr>\n",
              "  </thead>\n",
              "  <tbody>\n",
              "    <tr>\n",
              "      <th>35</th>\n",
              "      <td>0.000000</td>\n",
              "      <td>0.000000</td>\n",
              "      <td>0.0</td>\n",
              "      <td>0.0</td>\n",
              "      <td>0.000000</td>\n",
              "      <td>0.0</td>\n",
              "      <td>3.906891</td>\n",
              "      <td>0.0</td>\n",
              "      <td>0.0</td>\n",
              "      <td>0.000000</td>\n",
              "      <td>0.000000</td>\n",
              "      <td>0.0</td>\n",
              "      <td>0.0</td>\n",
              "      <td>0.0</td>\n",
              "      <td>0.0</td>\n",
              "    </tr>\n",
              "    <tr>\n",
              "      <th>roma</th>\n",
              "      <td>0.000000</td>\n",
              "      <td>3.906891</td>\n",
              "      <td>0.0</td>\n",
              "      <td>0.0</td>\n",
              "      <td>0.000000</td>\n",
              "      <td>0.0</td>\n",
              "      <td>0.000000</td>\n",
              "      <td>0.0</td>\n",
              "      <td>0.0</td>\n",
              "      <td>0.000000</td>\n",
              "      <td>0.000000</td>\n",
              "      <td>0.0</td>\n",
              "      <td>0.0</td>\n",
              "      <td>0.0</td>\n",
              "      <td>0.0</td>\n",
              "    </tr>\n",
              "    <tr>\n",
              "      <th>40</th>\n",
              "      <td>0.000000</td>\n",
              "      <td>0.000000</td>\n",
              "      <td>0.0</td>\n",
              "      <td>0.0</td>\n",
              "      <td>0.000000</td>\n",
              "      <td>0.0</td>\n",
              "      <td>3.906891</td>\n",
              "      <td>0.0</td>\n",
              "      <td>0.0</td>\n",
              "      <td>0.000000</td>\n",
              "      <td>0.000000</td>\n",
              "      <td>0.0</td>\n",
              "      <td>0.0</td>\n",
              "      <td>0.0</td>\n",
              "      <td>0.0</td>\n",
              "    </tr>\n",
              "    <tr>\n",
              "      <th>espera</th>\n",
              "      <td>0.000000</td>\n",
              "      <td>0.000000</td>\n",
              "      <td>0.0</td>\n",
              "      <td>0.0</td>\n",
              "      <td>0.000000</td>\n",
              "      <td>0.0</td>\n",
              "      <td>0.000000</td>\n",
              "      <td>0.0</td>\n",
              "      <td>0.0</td>\n",
              "      <td>2.906891</td>\n",
              "      <td>0.000000</td>\n",
              "      <td>0.0</td>\n",
              "      <td>0.0</td>\n",
              "      <td>0.0</td>\n",
              "      <td>0.0</td>\n",
              "    </tr>\n",
              "    <tr>\n",
              "      <th>viña</th>\n",
              "      <td>0.000000</td>\n",
              "      <td>0.000000</td>\n",
              "      <td>0.0</td>\n",
              "      <td>0.0</td>\n",
              "      <td>0.000000</td>\n",
              "      <td>0.0</td>\n",
              "      <td>0.000000</td>\n",
              "      <td>0.0</td>\n",
              "      <td>0.0</td>\n",
              "      <td>0.000000</td>\n",
              "      <td>3.906891</td>\n",
              "      <td>0.0</td>\n",
              "      <td>0.0</td>\n",
              "      <td>0.0</td>\n",
              "      <td>0.0</td>\n",
              "    </tr>\n",
              "    <tr>\n",
              "      <th>...</th>\n",
              "      <td>...</td>\n",
              "      <td>...</td>\n",
              "      <td>...</td>\n",
              "      <td>...</td>\n",
              "      <td>...</td>\n",
              "      <td>...</td>\n",
              "      <td>...</td>\n",
              "      <td>...</td>\n",
              "      <td>...</td>\n",
              "      <td>...</td>\n",
              "      <td>...</td>\n",
              "      <td>...</td>\n",
              "      <td>...</td>\n",
              "      <td>...</td>\n",
              "      <td>...</td>\n",
              "    </tr>\n",
              "    <tr>\n",
              "      <th>américa</th>\n",
              "      <td>0.000000</td>\n",
              "      <td>0.000000</td>\n",
              "      <td>0.0</td>\n",
              "      <td>0.0</td>\n",
              "      <td>0.000000</td>\n",
              "      <td>0.0</td>\n",
              "      <td>3.906891</td>\n",
              "      <td>0.0</td>\n",
              "      <td>0.0</td>\n",
              "      <td>0.000000</td>\n",
              "      <td>0.000000</td>\n",
              "      <td>0.0</td>\n",
              "      <td>0.0</td>\n",
              "      <td>0.0</td>\n",
              "      <td>0.0</td>\n",
              "    </tr>\n",
              "    <tr>\n",
              "      <th>bohemian</th>\n",
              "      <td>0.000000</td>\n",
              "      <td>3.906891</td>\n",
              "      <td>0.0</td>\n",
              "      <td>0.0</td>\n",
              "      <td>0.000000</td>\n",
              "      <td>0.0</td>\n",
              "      <td>0.000000</td>\n",
              "      <td>0.0</td>\n",
              "      <td>0.0</td>\n",
              "      <td>0.000000</td>\n",
              "      <td>0.000000</td>\n",
              "      <td>0.0</td>\n",
              "      <td>0.0</td>\n",
              "      <td>0.0</td>\n",
              "      <td>0.0</td>\n",
              "    </tr>\n",
              "    <tr>\n",
              "      <th>premiação</th>\n",
              "      <td>0.000000</td>\n",
              "      <td>0.000000</td>\n",
              "      <td>0.0</td>\n",
              "      <td>0.0</td>\n",
              "      <td>3.906891</td>\n",
              "      <td>0.0</td>\n",
              "      <td>0.000000</td>\n",
              "      <td>0.0</td>\n",
              "      <td>0.0</td>\n",
              "      <td>0.000000</td>\n",
              "      <td>0.000000</td>\n",
              "      <td>0.0</td>\n",
              "      <td>0.0</td>\n",
              "      <td>0.0</td>\n",
              "      <td>0.0</td>\n",
              "    </tr>\n",
              "    <tr>\n",
              "      <th>quatro</th>\n",
              "      <td>3.906891</td>\n",
              "      <td>0.000000</td>\n",
              "      <td>0.0</td>\n",
              "      <td>0.0</td>\n",
              "      <td>0.000000</td>\n",
              "      <td>0.0</td>\n",
              "      <td>0.000000</td>\n",
              "      <td>0.0</td>\n",
              "      <td>0.0</td>\n",
              "      <td>0.000000</td>\n",
              "      <td>0.000000</td>\n",
              "      <td>0.0</td>\n",
              "      <td>0.0</td>\n",
              "      <td>0.0</td>\n",
              "      <td>0.0</td>\n",
              "    </tr>\n",
              "    <tr>\n",
              "      <th>prêmios</th>\n",
              "      <td>3.906891</td>\n",
              "      <td>0.000000</td>\n",
              "      <td>0.0</td>\n",
              "      <td>0.0</td>\n",
              "      <td>0.000000</td>\n",
              "      <td>0.0</td>\n",
              "      <td>0.000000</td>\n",
              "      <td>0.0</td>\n",
              "      <td>0.0</td>\n",
              "      <td>0.000000</td>\n",
              "      <td>0.000000</td>\n",
              "      <td>0.0</td>\n",
              "      <td>0.0</td>\n",
              "      <td>0.0</td>\n",
              "      <td>0.0</td>\n",
              "    </tr>\n",
              "  </tbody>\n",
              "</table>\n",
              "<p>108 rows × 15 columns</p>\n",
              "</div>\n",
              "      <button class=\"colab-df-convert\" onclick=\"convertToInteractive('df-0c7dbe19-2358-4594-ba85-d9efc313f1f9')\"\n",
              "              title=\"Convert this dataframe to an interactive table.\"\n",
              "              style=\"display:none;\">\n",
              "        \n",
              "  <svg xmlns=\"http://www.w3.org/2000/svg\" height=\"24px\"viewBox=\"0 0 24 24\"\n",
              "       width=\"24px\">\n",
              "    <path d=\"M0 0h24v24H0V0z\" fill=\"none\"/>\n",
              "    <path d=\"M18.56 5.44l.94 2.06.94-2.06 2.06-.94-2.06-.94-.94-2.06-.94 2.06-2.06.94zm-11 1L8.5 8.5l.94-2.06 2.06-.94-2.06-.94L8.5 2.5l-.94 2.06-2.06.94zm10 10l.94 2.06.94-2.06 2.06-.94-2.06-.94-.94-2.06-.94 2.06-2.06.94z\"/><path d=\"M17.41 7.96l-1.37-1.37c-.4-.4-.92-.59-1.43-.59-.52 0-1.04.2-1.43.59L10.3 9.45l-7.72 7.72c-.78.78-.78 2.05 0 2.83L4 21.41c.39.39.9.59 1.41.59.51 0 1.02-.2 1.41-.59l7.78-7.78 2.81-2.81c.8-.78.8-2.07 0-2.86zM5.41 20L4 18.59l7.72-7.72 1.47 1.35L5.41 20z\"/>\n",
              "  </svg>\n",
              "      </button>\n",
              "      \n",
              "  <style>\n",
              "    .colab-df-container {\n",
              "      display:flex;\n",
              "      flex-wrap:wrap;\n",
              "      gap: 12px;\n",
              "    }\n",
              "\n",
              "    .colab-df-convert {\n",
              "      background-color: #E8F0FE;\n",
              "      border: none;\n",
              "      border-radius: 50%;\n",
              "      cursor: pointer;\n",
              "      display: none;\n",
              "      fill: #1967D2;\n",
              "      height: 32px;\n",
              "      padding: 0 0 0 0;\n",
              "      width: 32px;\n",
              "    }\n",
              "\n",
              "    .colab-df-convert:hover {\n",
              "      background-color: #E2EBFA;\n",
              "      box-shadow: 0px 1px 2px rgba(60, 64, 67, 0.3), 0px 1px 3px 1px rgba(60, 64, 67, 0.15);\n",
              "      fill: #174EA6;\n",
              "    }\n",
              "\n",
              "    [theme=dark] .colab-df-convert {\n",
              "      background-color: #3B4455;\n",
              "      fill: #D2E3FC;\n",
              "    }\n",
              "\n",
              "    [theme=dark] .colab-df-convert:hover {\n",
              "      background-color: #434B5C;\n",
              "      box-shadow: 0px 1px 3px 1px rgba(0, 0, 0, 0.15);\n",
              "      filter: drop-shadow(0px 1px 2px rgba(0, 0, 0, 0.3));\n",
              "      fill: #FFFFFF;\n",
              "    }\n",
              "  </style>\n",
              "\n",
              "      <script>\n",
              "        const buttonEl =\n",
              "          document.querySelector('#df-0c7dbe19-2358-4594-ba85-d9efc313f1f9 button.colab-df-convert');\n",
              "        buttonEl.style.display =\n",
              "          google.colab.kernel.accessAllowed ? 'block' : 'none';\n",
              "\n",
              "        async function convertToInteractive(key) {\n",
              "          const element = document.querySelector('#df-0c7dbe19-2358-4594-ba85-d9efc313f1f9');\n",
              "          const dataTable =\n",
              "            await google.colab.kernel.invokeFunction('convertToInteractive',\n",
              "                                                     [key], {});\n",
              "          if (!dataTable) return;\n",
              "\n",
              "          const docLinkHtml = 'Like what you see? Visit the ' +\n",
              "            '<a target=\"_blank\" href=https://colab.research.google.com/notebooks/data_table.ipynb>data table notebook</a>'\n",
              "            + ' to learn more about interactive tables.';\n",
              "          element.innerHTML = '';\n",
              "          dataTable['output_type'] = 'display_data';\n",
              "          await google.colab.output.renderOutput(dataTable, element);\n",
              "          const docLink = document.createElement('div');\n",
              "          docLink.innerHTML = docLinkHtml;\n",
              "          element.appendChild(docLink);\n",
              "        }\n",
              "      </script>\n",
              "    </div>\n",
              "  </div>\n",
              "  "
            ],
            "text/plain": [
              "                 0         1    2    3         4   ...        10   11   12   13   14\n",
              "35         0.000000  0.000000  0.0  0.0  0.000000  ...  0.000000  0.0  0.0  0.0  0.0\n",
              "roma       0.000000  3.906891  0.0  0.0  0.000000  ...  0.000000  0.0  0.0  0.0  0.0\n",
              "40         0.000000  0.000000  0.0  0.0  0.000000  ...  0.000000  0.0  0.0  0.0  0.0\n",
              "espera     0.000000  0.000000  0.0  0.0  0.000000  ...  0.000000  0.0  0.0  0.0  0.0\n",
              "viña       0.000000  0.000000  0.0  0.0  0.000000  ...  3.906891  0.0  0.0  0.0  0.0\n",
              "...             ...       ...  ...  ...       ...  ...       ...  ...  ...  ...  ...\n",
              "américa    0.000000  0.000000  0.0  0.0  0.000000  ...  0.000000  0.0  0.0  0.0  0.0\n",
              "bohemian   0.000000  3.906891  0.0  0.0  0.000000  ...  0.000000  0.0  0.0  0.0  0.0\n",
              "premiação  0.000000  0.000000  0.0  0.0  3.906891  ...  0.000000  0.0  0.0  0.0  0.0\n",
              "quatro     3.906891  0.000000  0.0  0.0  0.000000  ...  0.000000  0.0  0.0  0.0  0.0\n",
              "prêmios    3.906891  0.000000  0.0  0.0  0.000000  ...  0.000000  0.0  0.0  0.0  0.0\n",
              "\n",
              "[108 rows x 15 columns]"
            ]
          },
          "metadata": {},
          "execution_count": 18
        }
      ],
      "source": [
        "tfidf = tf_idf_matrix(M_cleaned, idf)\n",
        "tfidf"
      ]
    },
    {
      "cell_type": "markdown",
      "id": "f4b10eba",
      "metadata": {
        "id": "f4b10eba"
      },
      "source": [
        "# Exercício 4 - Ranking de Consultas"
      ]
    },
    {
      "cell_type": "code",
      "execution_count": null,
      "id": "25f785f0",
      "metadata": {
        "id": "25f785f0"
      },
      "outputs": [],
      "source": [
        "#Definindo a função para gerar vetor\n",
        "def gen_vector(query, idf):\n",
        "    token_set = set()\n",
        "    \n",
        "    query_cleaned = clean_doc(query, separadores, stopwords)\n",
        "\n",
        "    vector = pd.Series(index=idf.index, dtype='float64')\n",
        "\n",
        "    for token in idf.index:\n",
        "            vector[token] = (1 + np.log2(query_cleaned.count(token)))*idf[token] if query_cleaned.count(token) > 0 else 0\n",
        "        \n",
        "    return vector"
      ]
    },
    {
      "cell_type": "code",
      "execution_count": null,
      "id": "3cc32912",
      "metadata": {
        "id": "3cc32912",
        "colab": {
          "base_uri": "https://localhost:8080/"
        },
        "outputId": "31832740-49d0-44a0-c1e8-f953f1d33166"
      },
      "outputs": [
        {
          "output_type": "execute_result",
          "data": {
            "text/plain": [
              "35           0.0\n",
              "roma         0.0\n",
              "40           0.0\n",
              "espera       0.0\n",
              "viña         0.0\n",
              "            ... \n",
              "américa      0.0\n",
              "bohemian     0.0\n",
              "premiação    0.0\n",
              "quatro       0.0\n",
              "prêmios      0.0\n",
              "Length: 108, dtype: float64"
            ]
          },
          "metadata": {},
          "execution_count": 20
        }
      ],
      "source": [
        "gen_vector('completa oscar rússia prêmio 1917 acontece', idf)"
      ]
    },
    {
      "cell_type": "code",
      "execution_count": null,
      "id": "b8a69f22",
      "metadata": {
        "id": "b8a69f22",
        "colab": {
          "base_uri": "https://localhost:8080/"
        },
        "outputId": "375ce588-5ea4-4a95-cce9-9c84e651b98d"
      },
      "outputs": [
        {
          "output_type": "execute_result",
          "data": {
            "text/plain": [
              "2     0.265364\n",
              "4     0.193775\n",
              "3     0.193775\n",
              "5     0.146480\n",
              "7     0.042154\n",
              "11    0.039027\n",
              "0     0.039027\n",
              "1     0.034418\n",
              "14    0.000000\n",
              "13    0.000000\n",
              "12    0.000000\n",
              "10    0.000000\n",
              "9     0.000000\n",
              "8     0.000000\n",
              "6     0.000000\n",
              "dtype: float64"
            ]
          },
          "metadata": {},
          "execution_count": 21
        }
      ],
      "source": [
        "#Definindo a função para calcular similaridade\n",
        "similarity = lambda v1, v2: (v1@v2)/(np.linalg.norm(v1)*np.linalg.norm(v2))\n",
        "\n",
        "query = 'completa oscar rússia prêmio 1917 acontece'\n",
        "query_vector = gen_vector(query, idf)\n",
        "\n",
        "# Definindo a função que retorna o ranking de similaridades\n",
        "def similarity_ranking(vec, tf_idf):\n",
        "    similarities = tf_idf.apply(lambda x: similarity(vec, x))\n",
        "    return similarities.sort_values(ascending=False)\n",
        "\n",
        "similarity_ranking(query_vector, tfidf)"
      ]
    },
    {
      "cell_type": "markdown",
      "source": [
        "# Exercício 5 - Modelo Probabilístico"
      ],
      "metadata": {
        "id": "MEC0pi48pPCf"
      },
      "id": "MEC0pi48pPCf"
    },
    {
      "cell_type": "code",
      "source": [
        "# Calculando o tamanho médio dos documentos.\n",
        "avg_doc_len = np.mean([len(doc) for doc in M_cleaned])\n",
        "avg_doc_len"
      ],
      "metadata": {
        "id": "K2jO3ryfpVKu",
        "colab": {
          "base_uri": "https://localhost:8080/"
        },
        "outputId": "e384de94-598a-493b-e31c-e4889ee7d5bc"
      },
      "id": "K2jO3ryfpVKu",
      "execution_count": null,
      "outputs": [
        {
          "output_type": "execute_result",
          "data": {
            "text/plain": [
              "9.066666666666666"
            ]
          },
          "metadata": {},
          "execution_count": 22
        }
      ]
    },
    {
      "cell_type": "code",
      "source": [
        "# Criando o vetor do número de ocorrências de cada elemento em cada documento\n",
        "n_occurrences = boolean_model.apply(np.sum, axis=1)\n",
        "n_occurrences"
      ],
      "metadata": {
        "colab": {
          "base_uri": "https://localhost:8080/"
        },
        "id": "RUsR-7Fes48e",
        "outputId": "ef25cb1d-b08b-445c-b707-cbf108a17e62"
      },
      "id": "RUsR-7Fes48e",
      "execution_count": null,
      "outputs": [
        {
          "output_type": "execute_result",
          "data": {
            "text/plain": [
              "35           1\n",
              "roma         1\n",
              "40           1\n",
              "espera       1\n",
              "viña         1\n",
              "            ..\n",
              "américa      1\n",
              "bohemian     1\n",
              "premiação    1\n",
              "quatro       1\n",
              "prêmios      1\n",
              "Length: 108, dtype: int64"
            ]
          },
          "metadata": {},
          "execution_count": 23
        }
      ]
    },
    {
      "cell_type": "code",
      "source": [
        "# Criando variável para armazenar o número de documentos.\n",
        "N = len(M_cleaned)\n",
        "N"
      ],
      "metadata": {
        "colab": {
          "base_uri": "https://localhost:8080/"
        },
        "id": "0WMyEURCwvVR",
        "outputId": "85b1f160-a6de-4429-ae58-64480dd08d34"
      },
      "id": "0WMyEURCwvVR",
      "execution_count": null,
      "outputs": [
        {
          "output_type": "execute_result",
          "data": {
            "text/plain": [
              "15"
            ]
          },
          "metadata": {},
          "execution_count": 24
        }
      ]
    },
    {
      "cell_type": "code",
      "source": [
        "# Construindo a função para calcular a similaridade seguindo o modelo probabilístico BM25\n",
        "def similarity_probabilistic_model(query, doc, K, b, avg_doc_len, n_occurrences, N):\n",
        "  similarity = 0\n",
        "  for token in query:\n",
        "    if token in n_occurrences:\n",
        "      beta = (K + 1)*doc.count(token)/(K*((1 - b) + b*len(doc)/avg_doc_len) + doc.count(token))\n",
        "      similarity += beta * np.log2((N - n_occurrences[token] + 0.5)/(n_occurrences[token] + 0.5))\n",
        "\n",
        "  return similarity"
      ],
      "metadata": {
        "id": "Ker_5XHCuwWc"
      },
      "id": "Ker_5XHCuwWc",
      "execution_count": null,
      "outputs": []
    },
    {
      "cell_type": "code",
      "source": [
        "query = 'oscar 2020'\n",
        "query = clean_doc(query, separadores, stopwords)\n",
        "\n",
        "# Definindo a função que retorna o ranking de similaridades\n",
        "def similarity_probabilistic_model_ranking(query, docs, K, b, avg_doc_len, n_occurrences, N, boolean_model):\n",
        "    similarities = [similarity_probabilistic_model(query, doc, K, b, avg_doc_len, n_occurrences, N) for doc in docs]\n",
        "    return pd.Series(data=similarities, index=boolean_model.columns).sort_values(ascending=False)\n",
        "\n",
        "similarity_probabilistic_model_ranking(query, M_cleaned, 1, 0.75, avg_doc_len, n_occurrences, N, boolean_model)"
      ],
      "metadata": {
        "colab": {
          "base_uri": "https://localhost:8080/"
        },
        "id": "TL06iX5pybi8",
        "outputId": "a0bf65ac-7505-4b85-8c13-a2395bc2939b"
      },
      "id": "TL06iX5pybi8",
      "execution_count": null,
      "outputs": [
        {
          "output_type": "execute_result",
          "data": {
            "text/plain": [
              "13    0.598660\n",
              "14    0.549002\n",
              "7     0.420215\n",
              "0     0.401210\n",
              "4     0.383850\n",
              "2     0.327216\n",
              "12    0.000000\n",
              "10    0.000000\n",
              "9     0.000000\n",
              "8     0.000000\n",
              "6     0.000000\n",
              "5    -0.149971\n",
              "1    -0.181072\n",
              "3    -0.188906\n",
              "11   -0.197450\n",
              "dtype: float64"
            ]
          },
          "metadata": {},
          "execution_count": 26
        }
      ]
    },
    {
      "cell_type": "markdown",
      "source": [
        "# Exercício 6 - Avaliação da Recuperação"
      ],
      "metadata": {
        "id": "s6kUQQbfTScw"
      },
      "id": "s6kUQQbfTScw"
    },
    {
      "cell_type": "code",
      "source": [
        "#Função para calcular a revocação do sistema de Recuperação de Informação \n",
        "def recall(retrieved, relevant):\n",
        "  docs = [doc for doc in retrieved if doc in relevant]\n",
        "\n",
        "  return (len(docs)/len(relevant))\n",
        "\n",
        "#Função para calcular a precisão do sistema de Recuperação de Informação\n",
        "def precision(retrieved, relevant):\n",
        "  docs = [doc for doc in retrieved if doc in relevant]\n",
        "\n",
        "  return (len(docs)/len(retrieved))"
      ],
      "metadata": {
        "id": "-SDKCBclTmAl"
      },
      "id": "-SDKCBclTmAl",
      "execution_count": null,
      "outputs": []
    },
    {
      "cell_type": "code",
      "source": [
        "#Dados para avaliação da recuperação\n",
        "M_test = [['O peã e o caval são pec de xadrez. O caval é o melhor do jog.'],\n",
        "['A jog envolv a torr, o peã e o rei.'],\n",
        "['O peã lac o boi'],\n",
        "['Caval de rodei!'],\n",
        "['Polic o jog no xadrez.']] #conjunto de documentos\n",
        "\n",
        "stopwords_test = ['a', 'o', 'e', 'é', 'de', 'do', 'no', 'são'] #lista de stopwords\n",
        "\n",
        "q = 'xadrez peã caval torr' #consulta\n",
        "\n",
        "separadores_test = [' ',',','.','!','?'] #separadores para tokenizacao\n",
        "\n",
        "R = [0, 1] #identificador dos documentos relevantes para a consulta q (indica primeiro e segundo documentos)"
      ],
      "metadata": {
        "id": "nbf0h6AKV78B"
      },
      "id": "nbf0h6AKV78B",
      "execution_count": null,
      "outputs": []
    },
    {
      "cell_type": "code",
      "source": [
        "M_cleaned_test = [clean_doc(doc[0], separadores_test, stopwords_test) for doc in M_test]\n",
        "\n",
        "idf_test = generate_idf_vector(M_cleaned_test)\n",
        "tfidf_test = tf_idf_matrix(M_cleaned_test, idf_test)"
      ],
      "metadata": {
        "id": "4s8UsUefW3my"
      },
      "id": "4s8UsUefW3my",
      "execution_count": null,
      "outputs": []
    },
    {
      "cell_type": "code",
      "source": [
        "q_cleaned = clean_doc(q, separadores_test, stopwords_test)\n",
        "\n",
        "q_vector = gen_vector(q, idf_test)"
      ],
      "metadata": {
        "id": "lcjgkdLsXby7"
      },
      "id": "lcjgkdLsXby7",
      "execution_count": null,
      "outputs": []
    },
    {
      "cell_type": "code",
      "source": [
        "# Calculando o tamanho médio dos documentos para o BM25.\n",
        "avg_doc_len_test = np.mean([len(doc) for doc in M_cleaned_test])\n",
        "avg_doc_len_test"
      ],
      "metadata": {
        "colab": {
          "base_uri": "https://localhost:8080/"
        },
        "id": "OPYW0beeZy2_",
        "outputId": "c72972e3-bf2a-4d80-888b-e41cf7c3c9ec"
      },
      "id": "OPYW0beeZy2_",
      "execution_count": null,
      "outputs": [
        {
          "output_type": "execute_result",
          "data": {
            "text/plain": [
              "4.0"
            ]
          },
          "metadata": {},
          "execution_count": 31
        }
      ]
    },
    {
      "cell_type": "code",
      "source": [
        "# Criando o vetor do número de ocorrências de cada elemento em cada documento para o BM25.\n",
        "n_occurrences_test = tfidf_test.where(tfidf_test <= 0, 1).apply(np.sum, axis=1)\n",
        "n_occurrences_test"
      ],
      "metadata": {
        "colab": {
          "base_uri": "https://localhost:8080/"
        },
        "id": "qi_tIr34Z634",
        "outputId": "3167e676-a44b-4a11-ece7-a7cf06a5acd6"
      },
      "id": "qi_tIr34Z634",
      "execution_count": null,
      "outputs": [
        {
          "output_type": "execute_result",
          "data": {
            "text/plain": [
              "envolv    1.0\n",
              "boi       1.0\n",
              "polic     1.0\n",
              "jog       3.0\n",
              "xadrez    2.0\n",
              "rei       1.0\n",
              "peã       3.0\n",
              "melhor    1.0\n",
              "torr      1.0\n",
              "caval     2.0\n",
              "lac       1.0\n",
              "pec       1.0\n",
              "rodei     1.0\n",
              "dtype: float64"
            ]
          },
          "metadata": {},
          "execution_count": 32
        }
      ]
    },
    {
      "cell_type": "code",
      "source": [
        "# Criando variável para armazenar o número de documentos para o BM25.\n",
        "N_test = len(M_cleaned_test)\n",
        "N_test"
      ],
      "metadata": {
        "colab": {
          "base_uri": "https://localhost:8080/"
        },
        "id": "_YUa8-k-ayIq",
        "outputId": "afe15c89-dfd5-4143-ccac-e985847b2076"
      },
      "id": "_YUa8-k-ayIq",
      "execution_count": null,
      "outputs": [
        {
          "output_type": "execute_result",
          "data": {
            "text/plain": [
              "5"
            ]
          },
          "metadata": {},
          "execution_count": 33
        }
      ]
    },
    {
      "cell_type": "code",
      "source": [
        "# Construindo os rankings de similaridade para os modelos vetorial e BM25\n",
        "ranking_sim = similarity_ranking(q_vector, tfidf_test)\n",
        "ranking_bm25 = similarity_probabilistic_model_ranking(q_cleaned, M_cleaned_test, 1, 0.75, avg_doc_len_test, n_occurrences_test, N_test, tfidf_test.where(tfidf_test <= 0, 1))"
      ],
      "metadata": {
        "id": "njRQri9aX6KM"
      },
      "id": "njRQri9aX6KM",
      "execution_count": null,
      "outputs": []
    },
    {
      "cell_type": "code",
      "source": [
        "# Calculando os valores de precisão e revocação para o modelo vetorial\n",
        "recall_values_vec = [recall(ranking_sim[:i+1].index, R) for i in range(len(M_test))]\n",
        "precision_values_vec = [precision(ranking_sim[:i+1].index, R) for i in range(len(M_test))]"
      ],
      "metadata": {
        "id": "J2qDLcK2cNNj"
      },
      "id": "J2qDLcK2cNNj",
      "execution_count": null,
      "outputs": []
    },
    {
      "cell_type": "code",
      "source": [
        "recall_values_vec"
      ],
      "metadata": {
        "colab": {
          "base_uri": "https://localhost:8080/"
        },
        "id": "xJ4uRtmye53b",
        "outputId": "56db2774-d4fa-4002-96b5-532d19418353"
      },
      "id": "xJ4uRtmye53b",
      "execution_count": null,
      "outputs": [
        {
          "output_type": "execute_result",
          "data": {
            "text/plain": [
              "[0.5, 1.0, 1.0, 1.0, 1.0]"
            ]
          },
          "metadata": {},
          "execution_count": 36
        }
      ]
    },
    {
      "cell_type": "code",
      "source": [
        "precision_values_vec"
      ],
      "metadata": {
        "colab": {
          "base_uri": "https://localhost:8080/"
        },
        "id": "hBdYqxozfTo-",
        "outputId": "140d95f4-7fcf-413b-80ee-9dc9a9ef0191"
      },
      "id": "hBdYqxozfTo-",
      "execution_count": null,
      "outputs": [
        {
          "output_type": "execute_result",
          "data": {
            "text/plain": [
              "[1.0, 1.0, 0.6666666666666666, 0.5, 0.4]"
            ]
          },
          "metadata": {},
          "execution_count": 37
        }
      ]
    },
    {
      "cell_type": "code",
      "source": [
        "# Plotando o gráfico de RevocaçãoXPrecisão para o modelo vetorial\n",
        "fig = plt.figure()\n",
        "plt.plot(recall_values_vec, precision_values_vec, marker='o')\n",
        "plt.title('RevocaçãoXPrecisão - Modelo Vetorial', fontsize=15)\n",
        "plt.xlabel('Revocação', fontsize=15)\n",
        "plt.ylabel('Precisão', fontsize=15)\n",
        "plt.xlim([0, 1.1])\n",
        "plt.ylim([0, 1.1])\n",
        "fig.show()"
      ],
      "metadata": {
        "colab": {
          "base_uri": "https://localhost:8080/",
          "height": 302
        },
        "id": "UyBPv-Z7gqGQ",
        "outputId": "d132b818-3313-4197-ba75-af1f9b3a4820"
      },
      "id": "UyBPv-Z7gqGQ",
      "execution_count": null,
      "outputs": [
        {
          "output_type": "display_data",
          "data": {
            "image/png": "[encoded data removed]",
            "text/plain": [
              "<Figure size 432x288 with 1 Axes>"
            ]
          },
          "metadata": {
            "needs_background": "light"
          }
        }
      ]
    },
    {
      "cell_type": "code",
      "source": [
        "# Calculando os valores de precisão e revocação para o modelo probabilístico\n",
        "recall_values_bm25 = [recall(ranking_bm25[:i+1].index, R) for i in range(len(M_test))]\n",
        "precision_values_bm25 = [precision(ranking_bm25[:i+1].index, R) for i in range(len(M_test))]"
      ],
      "metadata": {
        "id": "srD_G_JNf9z7"
      },
      "id": "srD_G_JNf9z7",
      "execution_count": null,
      "outputs": []
    },
    {
      "cell_type": "code",
      "source": [
        "recall_values_bm25"
      ],
      "metadata": {
        "colab": {
          "base_uri": "https://localhost:8080/"
        },
        "id": "upp2LQhagEZe",
        "outputId": "f8f2c51a-80ea-43c9-95a0-04fc9ec79592"
      },
      "id": "upp2LQhagEZe",
      "execution_count": null,
      "outputs": [
        {
          "output_type": "execute_result",
          "data": {
            "text/plain": [
              "[0.5, 0.5, 1.0, 1.0, 1.0]"
            ]
          },
          "metadata": {},
          "execution_count": 40
        }
      ]
    },
    {
      "cell_type": "code",
      "source": [
        "precision_values_bm25"
      ],
      "metadata": {
        "colab": {
          "base_uri": "https://localhost:8080/"
        },
        "id": "0yWAxoUIgFtw",
        "outputId": "e1c874d6-f7f1-4efb-9db3-e8c4f9a7dc8c"
      },
      "id": "0yWAxoUIgFtw",
      "execution_count": null,
      "outputs": [
        {
          "output_type": "execute_result",
          "data": {
            "text/plain": [
              "[1.0, 0.5, 0.6666666666666666, 0.5, 0.4]"
            ]
          },
          "metadata": {},
          "execution_count": 41
        }
      ]
    },
    {
      "cell_type": "code",
      "source": [
        "# Plotando o gráfico de RevocaçãoXPrecisão para o modelo probabilístico\n",
        "fig = plt.figure()\n",
        "plt.plot(recall_values_bm25, precision_values_bm25, marker='o')\n",
        "plt.title('RevocaçãoXPrecisão - Modelo Probabilístico', fontsize=15)\n",
        "plt.xlabel('Revocação', fontsize=15)\n",
        "plt.ylabel('Precisão', fontsize=15)\n",
        "plt.xlim([0, 1.1])\n",
        "plt.ylim([0, 1.1])\n",
        "fig.show()"
      ],
      "metadata": {
        "colab": {
          "base_uri": "https://localhost:8080/",
          "height": 303
        },
        "id": "If4lAwXAgSxW",
        "outputId": "8b47a670-931f-4678-b5ba-b52d0cce0232"
      },
      "id": "If4lAwXAgSxW",
      "execution_count": null,
      "outputs": [
        {
          "output_type": "display_data",
          "data": {
            "image/png": "[encoded data removed]",
            "text/plain": [
              "<Figure size 432x288 with 1 Axes>"
            ]
          },
          "metadata": {
            "needs_background": "light"
          }
        }
      ]
    },
    {
      "cell_type": "code",
      "source": [
        "#Função para calcular a precisão interpolada para os níveis de revocação\n",
        "def interpolated_precision(recall_vector, precision_vector): \n",
        "  interpolated_precision_vector = precision_vector\n",
        "  for i in range(len(recall_vector)):\n",
        "    current_precision = precision_vector[i]\n",
        "    for j in range(len(recall_vector)):\n",
        "      if(recall_vector[j] >= recall_vector[i] and precision_vector[j] > current_precision):\n",
        "        current_precision = precision_vector[j]\n",
        "    interpolated_precision_vector[i] = current_precision\n",
        "\n",
        "  return interpolated_precision_vector"
      ],
      "metadata": {
        "id": "qk3winyalDd2"
      },
      "id": "qk3winyalDd2",
      "execution_count": null,
      "outputs": []
    },
    {
      "cell_type": "code",
      "source": [
        "interpolated_precision_values_vec = interpolated_precision(recall_values_vec, precision_values_vec)\n",
        "interpolated_precision_values_bm25 = interpolated_precision(recall_values_bm25, precision_values_bm25)"
      ],
      "metadata": {
        "id": "VyO7DlwMwoUZ"
      },
      "id": "VyO7DlwMwoUZ",
      "execution_count": null,
      "outputs": []
    },
    {
      "cell_type": "code",
      "source": [
        "interpolated_precision_values_vec"
      ],
      "metadata": {
        "colab": {
          "base_uri": "https://localhost:8080/"
        },
        "id": "qxwd_qZfw3R0",
        "outputId": "1e011e31-b584-4432-fbbb-923432c92816"
      },
      "id": "qxwd_qZfw3R0",
      "execution_count": null,
      "outputs": [
        {
          "output_type": "execute_result",
          "data": {
            "text/plain": [
              "[1.0, 1.0, 1.0, 1.0, 1.0]"
            ]
          },
          "metadata": {},
          "execution_count": 45
        }
      ]
    },
    {
      "cell_type": "code",
      "source": [
        "# Plotando o gráfico de RevocaçãoXPrecisão para o modelo vetorial\n",
        "fig = plt.figure()\n",
        "plt.plot(recall_values_vec, interpolated_precision_values_vec, marker='o')\n",
        "plt.title('RevocaçãoXPrecisão Interpolada - Modelo Vetorial', fontsize=15)\n",
        "plt.xlabel('Revocação', fontsize=15)\n",
        "plt.ylabel('Precisão', fontsize=15)\n",
        "plt.xlim([0, 1.1])\n",
        "plt.ylim([0, 1.1])\n",
        "fig.show()"
      ],
      "metadata": {
        "colab": {
          "base_uri": "https://localhost:8080/",
          "height": 302
        },
        "id": "2xVm93_cxH84",
        "outputId": "947302c7-6f27-4ac5-c39a-c6a59a3ef4b8"
      },
      "id": "2xVm93_cxH84",
      "execution_count": null,
      "outputs": [
        {
          "output_type": "display_data",
          "data": {
            "image/png": "[encoded data removed]",
            "text/plain": [
              "<Figure size 432x288 with 1 Axes>"
            ]
          },
          "metadata": {
            "needs_background": "light"
          }
        }
      ]
    },
    {
      "cell_type": "code",
      "source": [
        "interpolated_precision_values_bm25"
      ],
      "metadata": {
        "colab": {
          "base_uri": "https://localhost:8080/"
        },
        "id": "flfkIolSw4HM",
        "outputId": "a42ce5a9-897f-4b8f-87a3-4973fa742ae2"
      },
      "id": "flfkIolSw4HM",
      "execution_count": null,
      "outputs": [
        {
          "output_type": "execute_result",
          "data": {
            "text/plain": [
              "[1.0, 1.0, 0.6666666666666666, 0.6666666666666666, 0.6666666666666666]"
            ]
          },
          "metadata": {},
          "execution_count": 47
        }
      ]
    },
    {
      "cell_type": "code",
      "source": [
        "fig = plt.figure()\n",
        "plt.plot(recall_values_bm25, interpolated_precision_values_bm25, marker='o')\n",
        "plt.title('RevocaçãoXPrecisão Interpolada - Modelo Probabilístico', fontsize=15)\n",
        "plt.xlabel('Revocação', fontsize=15)\n",
        "plt.ylabel('Precisão', fontsize=15)\n",
        "plt.xlim([0, 1.1])\n",
        "plt.ylim([0, 1.1])\n",
        "fig.show()"
      ],
      "metadata": {
        "colab": {
          "base_uri": "https://localhost:8080/",
          "height": 303
        },
        "id": "qs6EskDYxg-W",
        "outputId": "6c3fee93-9302-46cc-ef92-309f2a89f146"
      },
      "id": "qs6EskDYxg-W",
      "execution_count": null,
      "outputs": [
        {
          "output_type": "display_data",
          "data": {
            "image/png": "[encoded data removed]",
            "text/plain": [
              "<Figure size 432x288 with 1 Axes>"
            ]
          },
          "metadata": {
            "needs_background": "light"
          }
        }
      ]
    },
    {
      "cell_type": "code",
      "source": [
        "# Função para calcular a precisão média\n",
        "def map(ranking, relevant):\n",
        "  map = 0\n",
        "  for i in range(len(ranking)):\n",
        "    if(ranking[i] in relevant):\n",
        "      map += precision(ranking[:i + 1], relevant)\n",
        "  \n",
        "  return map/len(relevant)"
      ],
      "metadata": {
        "id": "dCTYNSEtikhU"
      },
      "id": "dCTYNSEtikhU",
      "execution_count": null,
      "outputs": []
    },
    {
      "cell_type": "code",
      "source": [
        "map_vec = map(list(ranking_sim.index), R)\n",
        "map_bm25 = map(list(ranking_bm25.index), R)"
      ],
      "metadata": {
        "id": "f6ETVLW8jJEi"
      },
      "id": "f6ETVLW8jJEi",
      "execution_count": null,
      "outputs": []
    },
    {
      "cell_type": "code",
      "source": [
        "print('Precisão Média da consulta no modelo vetorial:', map_vec)"
      ],
      "metadata": {
        "colab": {
          "base_uri": "https://localhost:8080/"
        },
        "id": "estdQDnkj_G2",
        "outputId": "18645814-4bfb-42f9-da06-38072c158bd3"
      },
      "id": "estdQDnkj_G2",
      "execution_count": null,
      "outputs": [
        {
          "output_type": "stream",
          "name": "stdout",
          "text": [
            "Precisão Média da consulta no modelo vetorial: 1.0\n"
          ]
        }
      ]
    },
    {
      "cell_type": "code",
      "source": [
        "print('Precisão Média da consulta no modelo probabilístico:', map_bm25)"
      ],
      "metadata": {
        "colab": {
          "base_uri": "https://localhost:8080/"
        },
        "id": "g-QBfu8Pkrw6",
        "outputId": "bd1d81ca-0b50-481d-f170-63249114954f"
      },
      "id": "g-QBfu8Pkrw6",
      "execution_count": null,
      "outputs": [
        {
          "output_type": "stream",
          "name": "stdout",
          "text": [
            "Precisão Média da consulta no modelo probabilístico: 0.8333333333333333\n"
          ]
        }
      ]
    }
  ],
  "metadata": {
    "colab": {
      "collapsed_sections": [
        "319345ad",
        "bHKrHIgORPnn",
        "XDXFy-wym8hs",
        "f4b10eba",
        "MEC0pi48pPCf"
      ],
      "name": "ExPratico6_RonaldAlbert.ipynb",
      "provenance": []
    },
    "kernelspec": {
      "display_name": "Python 3 (ipykernel)",
      "language": "python",
      "name": "python3"
    },
    "language_info": {
      "codemirror_mode": {
        "name": "ipython",
        "version": 3
      },
      "file_extension": ".py",
      "mimetype": "text/x-python",
      "name": "python",
      "nbconvert_exporter": "python",
      "pygments_lexer": "ipython3",
      "version": "3.9.7"
    }
  },
  "nbformat": 4,
  "nbformat_minor": 5
}